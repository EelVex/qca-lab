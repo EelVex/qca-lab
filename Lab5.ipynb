{
 "cells": [
  {
   "cell_type": "markdown",
   "metadata": {},
   "source": [
    "# Εργαστήριο 5\n",
    "\n",
    "Εκτέλεση κυκλωμάτων στα backend της IBM."
   ]
  },
  {
   "cell_type": "markdown",
   "metadata": {},
   "source": [
    "## Ασκήσεις\n",
    "\n",
    "Φορτώστε τη βιβλιοθήκη Qiskit σε ένα καινούργιο jupyter-notebook ή αρχείο python.\n",
    "Βεβαιωθείτε οτι έχετε ενεργή σύνδεση με την IBM (`qlib.IBMQ.backends()`) και δουλέψτε τις παρακάτω ασκήσεις."
   ]
  },
  {
   "cell_type": "markdown",
   "metadata": {},
   "source": [
    "### Άσκηση 5.1\n",
    "\n",
    "Χρησιμοποιώντας την μέθοδο `.configuration` βρείτε για κάθε backend που έχετε διαθέσιμο:\n",
    "\n",
    "* ποιες είναι οι διαθέσιμες φυσικές πύλες;\n",
    "* μεταξύ ποιών qubit μπορείτε να εφαρμόσετε control-not;\n",
    "\n",
    "Γράψτε συνάρτηση που σας δίνει αυτές τις πληροφορίες όταν της δίνετε το όνομα του backend:\n",
    "\n",
    "```python\n",
    "def show_me(be_name):\n",
    "    backend = ...\n",
    "    conf = ...\n",
    "    ...\n",
    "```"
   ]
  },
  {
   "cell_type": "markdown",
   "metadata": {},
   "source": [
    "### Άσκηση 5.2\n",
    "\n",
    "Δημιουργήστε τρία απλά κυκλώματα που να περιέχουν μετρήσεις. Ονομάστε τα `circuit1`, `circuit2`, `circuit3`.\n",
    "\n",
    "Με backend to `ibmq_qasm_simulator` δημιουργήστε τα αντίστοιχα compiled κυκλώματα `cc1`, `cc2`, `cc3`.\n",
    "\n",
    "Εκτελέστε τα χρησιμοποιώντας τον κώδικα:\n",
    "```python\n",
    "jobs = [None,None,None]\n",
    "jobs[0] = backend.run(cc1)\n",
    "jobs[1] = backend.run(cc2)\n",
    "jobs[2] = backend.run(cc3)\n",
    "```"
   ]
  },
  {
   "cell_type": "markdown",
   "metadata": {},
   "source": [
    "### Άσκηση 5.3\n",
    "\n",
    "Δημιουργήστε συνάρτηση που σας δίνει τις εξής πληροφορίες μιας εκτέλεσης:\n",
    "* status της εκτέλεσης\n",
    "* ημερομηνία δημουργίας\n",
    "* backend που χρησιμοποιήθηκε\n",
    "* αποτελέσματα μετρήσεων\n",
    "\n",
    "```python\n",
    "def show_results(a_job):\n",
    "        ...\n",
    "```\n",
    "\n",
    "Χρησιμοποιήστε τη για να δείτε τα αποτελέσματα των `jobs[]` της προηγούμενης άσκησης:\n",
    "\n",
    "```python\n",
    "for i in range(3):\n",
    "    show_results(jobs[i])\n",
    "```"
   ]
  },
  {
   "cell_type": "markdown",
   "metadata": {},
   "source": [
    "### Άσκηση 5.4\n",
    "\n",
    "Η παρακάτω συνάρτηση ελέγχει αν μπορούμε να εφαρμόσουμε control-not μεταξύ δυο qubits δεδομένου ενός `coupling_map`.\n",
    "Μελετήστε τη και μετατρέψτε την ώστε να εφαρμόζει το κατάλληλο control-not αντί να τυπώνει \"OK\" και \"OK if swapped\".\n",
    "\n",
    "```python\n",
    "coupling_map = [[1, 0], [2, 0], [2, 1], [3, 2], [3, 4], [4, 2]]\n",
    "\n",
    "def my_cx(q0, q1):\n",
    "    if [q0,q1] in coupling_map:\n",
    "        print(\"OK\")\n",
    "    elif [q1,q0] in coupling_map:\n",
    "        print(\"OK if swapped\")\n",
    "    else:\n",
    "        print(\"tricky\")\n",
    "\n",
    "        \n",
    "def my_cx(circuit, qr, q0, q1):\n",
    "    ...\n",
    "```\n",
    "\n",
    "Ελέγξτε τα αποτελέσματα σε απλό κύκλωμα:\n",
    "```python\n",
    "q = qlib.QuantumRegister(3, 'q')\n",
    "circuit = qlib.QuantumCircuit(q)\n",
    "my_cx(circuit, q, 1, 0)\n",
    "my_cx(circuit, q, 0, 1)\n",
    "my_cx(circuit, q, 0, 2)\n",
    "circuit.draw(output='mpl')\n",
    "```"
   ]
  },
  {
   "cell_type": "markdown",
   "metadata": {},
   "source": [
    "### Άσκηση 5.5\n",
    "\n",
    "Πως θα μπορούσατε να αντιμετωπίσετε την τρίτη περίπτωση τις παραπάνω άσκησης; Τι, δηλαδή, μπορείτε να κάνετε όταν δεν υπάρχει η control-not μεταξύ δυο qubit;"
   ]
  },
  {
   "cell_type": "markdown",
   "metadata": {},
   "source": [
    "# Παραδείγματα"
   ]
  },
  {
   "cell_type": "code",
   "execution_count": 2,
   "metadata": {},
   "outputs": [
    {
     "name": "stderr",
     "output_type": "stream",
     "text": [
      "/opt/anaconda3/lib/python3.6/site-packages/qiskit/providers/ibmq/ibmqprovider.py:251: UserWarning: Credentials are already in use.\n",
      "  warnings.warn('Credentials are already in use.')\n"
     ]
    },
    {
     "data": {
      "text/plain": [
       "[<IBMQBackend('ibmqx4') from IBMQ()>,\n",
       " <IBMQBackend('ibmqx2') from IBMQ()>,\n",
       " <IBMQBackend('ibmq_16_melbourne') from IBMQ()>,\n",
       " <IBMQBackend('ibmq_qasm_simulator') from IBMQ()>]"
      ]
     },
     "execution_count": 2,
     "metadata": {},
     "output_type": "execute_result"
    }
   ],
   "source": [
    "import qiskit as qlib\n",
    "qlib.IBMQ.load_accounts()\n",
    "\n",
    "# Λίστα διαθέσιμων backends\n",
    "qlib.IBMQ.backends()"
   ]
  },
  {
   "cell_type": "code",
   "execution_count": 3,
   "metadata": {},
   "outputs": [
    {
     "data": {
      "text/plain": [
       "BackendConfiguration(allow_q_object=True, backend_name='ibmqx4', backend_version='1.0.0', basis_gates=['u1', 'u2', 'u3', 'cx', 'id'], conditional=False, coupling_map=[[1, 0], [2, 0], [2, 1], [3, 2], [3, 4], [4, 2]], credits_required=True, description='5 qubit device', gates=[GateConfig(coupling_map=[[0], [1], [2], [3], [4]], name='id', parameters=[], qasm_def='gate id q { U(0,0,0) q; }'), GateConfig(coupling_map=[[0], [1], [2], [3], [4]], name='u1', parameters=['lambda'], qasm_def='gate u1(lambda) q { U(0,0,lambda) q; }'), GateConfig(coupling_map=[[0], [1], [2], [3], [4]], name='u2', parameters=['phi', 'lambda'], qasm_def='gate u2(phi,lambda) q { U(pi/2,phi,lambda) q; }'), GateConfig(coupling_map=[[0], [1], [2], [3], [4]], name='u3', parameters=['theta', 'phi', 'lambda'], qasm_def='u3(theta,phi,lambda) q { U(theta,phi,lambda) q; }'), GateConfig(coupling_map=[[1, 0], [2, 0], [2, 1], [3, 2], [3, 4], [4, 2]], name='cx', parameters=[], qasm_def='gate cx q1,q2 { CX q1,q2; }')], local=False, max_experiments=75, max_shots=8192, memory=True, n_qubits=5, n_registers=1, online_date=datetime.datetime(2018, 11, 6, 5, 0, tzinfo=tzutc()), open_pulse=False, sample_name='raven', simulator=False, url='None')"
      ]
     },
     "execution_count": 3,
     "metadata": {},
     "output_type": "execute_result"
    }
   ],
   "source": [
    "# επιλογή backend\n",
    "be = qlib.IBMQ.get_backend(\"ibmqx4\")\n",
    "\n",
    "# πληροφορίες για το configuration του backend\n",
    "be.configuration()"
   ]
  },
  {
   "cell_type": "code",
   "execution_count": 4,
   "metadata": {},
   "outputs": [
    {
     "name": "stdout",
     "output_type": "stream",
     "text": [
      "Όνομα backend: ibmqx4\n",
      "Φυσικές πύλες: ['u1', 'u2', 'u3', 'cx', 'id']\n",
      "Η πύλη `id` είναι διαθέσιμη στα qubits:\n",
      "[[0], [1], [2], [3], [4]]\n",
      "Η πύλη `u1` είναι διαθέσιμη στα qubits:\n",
      "[[0], [1], [2], [3], [4]]\n",
      "Η πύλη `u2` είναι διαθέσιμη στα qubits:\n",
      "[[0], [1], [2], [3], [4]]\n",
      "Η πύλη `u3` είναι διαθέσιμη στα qubits:\n",
      "[[0], [1], [2], [3], [4]]\n",
      "Η πύλη `cx` είναι διαθέσιμη στα qubits:\n",
      "[[1, 0], [2, 0], [2, 1], [3, 2], [3, 4], [4, 2]]\n"
     ]
    }
   ],
   "source": [
    "# πληροφορίες για το configuration του backend\n",
    "conf = be.configuration()\n",
    "\n",
    "print(\"Όνομα backend: \" + conf.backend_name)\n",
    "\n",
    "print(\"Φυσικές πύλες: {}\".format(conf.basis_gates))\n",
    "\n",
    "for i in range(len(conf.basis_gates)):\n",
    "    print(\"Η πύλη `\" + conf.gates[i].name + \"` είναι διαθέσιμη στα qubits:\")\n",
    "    print(conf.gates[i].coupling_map)"
   ]
  },
  {
   "cell_type": "code",
   "execution_count": 5,
   "metadata": {},
   "outputs": [
    {
     "name": "stdout",
     "output_type": "stream",
     "text": [
      "JobStatus.INITIALIZING\n",
      "ibmq_qasm_simulator\n",
      "None\n"
     ]
    }
   ],
   "source": [
    "backend = qlib.IBMQ.get_backend(\"ibmq_qasm_simulator\")\n",
    "\n",
    "# ενα κύκλωμα\n",
    "qr = qlib.QuantumRegister(2,'q')\n",
    "cr = qlib.ClassicalRegister(2, 'c')\n",
    "circuit = qlib.QuantumCircuit(qr, cr)\n",
    "circuit.h(qr[0]); circuit.cx(qr[0], qr[1]); circuit.measure(qr,cr)\n",
    "\n",
    "# compilation κυκλώματος\n",
    "compiled_circuit = qlib.compile(circuit, backend)\n",
    "\n",
    "# εκτέλεση χωρίς αναμονή για το αποτέλεσμα (background)\n",
    "job = backend.run(compiled_circuit)\n",
    "\n",
    "# κατάσταση εκτέλεσης\n",
    "print(job.status())\n",
    "\n",
    "# άλλες πληροφορίες της εκτέλεσης\n",
    "print(job.backend())\n",
    "print(job.creation_date())"
   ]
  },
  {
   "cell_type": "markdown",
   "metadata": {},
   "source": [
    "## Σημειώσεις"
   ]
  },
  {
   "cell_type": "markdown",
   "metadata": {},
   "source": [
    "## 1\n",
    "\n",
    "```python\n",
    "# Λίστα backends\n",
    "IBMQ.backends()\n",
    "\n",
    "# Επιλογή backend\n",
    "backend = IBMQ.get_backend(onoma_backend)\n",
    "\n",
    "# configuration του backend\n",
    "configuration = backend.configuration()\n",
    "\n",
    "# Πληροφορίες στο configuration\n",
    "configuration.backend_name\n",
    "configuration.basis_gates\n",
    "configuration.gates[i]\n",
    "```"
   ]
  },
  {
   "cell_type": "markdown",
   "metadata": {},
   "source": [
    "## 2\n",
    "\n",
    "```python\n",
    "# Compilation κυκλώματος\n",
    "compiled_circuit = qlib.compile(circuit, backend)\n",
    "\n",
    "# Εκτέλεση χωρίς αναμονή για το αποτέλεσμα (background)\n",
    "job = backend.run(compiled_circuit)\n",
    "\n",
    "\n",
    "# Πληροφορίες της εκτέλεσης\n",
    "job.status())\n",
    "job.backend()\n",
    "job.creation_date()\n",
    "\n",
    "# Πληροφορίες αποτελεσμάτων\n",
    "results = job.result()\n",
    "results.backend_name\n",
    "results.date\n",
    "results.status\n",
    "counts = results.get_counts()\n",
    "\n",
    "```"
   ]
  }
 ],
 "metadata": {
  "kernelspec": {
   "display_name": "Python 3",
   "language": "python",
   "name": "python3"
  },
  "language_info": {
   "codemirror_mode": {
    "name": "ipython",
    "version": 3
   },
   "file_extension": ".py",
   "mimetype": "text/x-python",
   "name": "python",
   "nbconvert_exporter": "python",
   "pygments_lexer": "ipython3",
   "version": "3.6.7"
  }
 },
 "nbformat": 4,
 "nbformat_minor": 2
}
