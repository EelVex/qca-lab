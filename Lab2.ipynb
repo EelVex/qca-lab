{
 "cells": [
  {
   "cell_type": "markdown",
   "metadata": {},
   "source": [
    "# Εργαστήριο 2\n",
    "\n",
    "Πύλες 1-,2- και 3-qubit. Εύρεση κβαντικών καταστάσεων με `statevector_simulator`.\n",
    "Σύνδεση στο quantum computing cloud της IBM."
   ]
  },
  {
   "cell_type": "markdown",
   "metadata": {},
   "source": [
    "## Ασκήσεις\n",
    "\n",
    "Φορτώστε τη βιβλιοθήκη Qiskit σε ένα καινούργιο jupyter-notebook ή αρχείο python και δουλέψτε τις παρακάτω ασκήσεις."
   ]
  },
  {
   "cell_type": "markdown",
   "metadata": {},
   "source": [
    "### Άσκηση 2.1\n",
    "\n",
    "Υλοποιήστε τα παρακάτω κυκλώματα.\n",
    "\n",
    "![a](img/lab2/lab2.1a.png)\n",
    "\n",
    "![b](img/lab2/lab2.1b.png)\n",
    "\n",
    "![c](img/lab2/lab2.1c.png)\n",
    "\n",
    "![d](img/lab2/lab2.1d.png)\n",
    "\n",
    "![e](img/lab2/lab2.1e.png)\n"
   ]
  },
  {
   "cell_type": "markdown",
   "metadata": {},
   "source": [
    "### Άσκηση 2.2\n",
    "\n",
    "Αποδείξτε ότι μια γενική πύλη `u3` είναι μοναδιαία.\n",
    "\n",
    "Υπολογίστε τις παραμέτρους που χρειάζεται η πύλη `u3` για να δώσει τις πύλες X, Y, Z, H, S, T.\n",
    "Αν θέλετε, χρησιμοποιήστε τις πύλες `u1` ή `u2` αντί της `u3`, όταν αυτό γίνεται."
   ]
  },
  {
   "cell_type": "markdown",
   "metadata": {},
   "source": [
    "### Άσκηση 2.3\n",
    "\n",
    "Δημιουργήστε απλά κυκλώματα 1-qubit για κάθε μία από τις πύλες Y, Z, S, T. Φροντίστε η δράση του κυκλώματος να μην είναι τετριμένη· δηλαδή να μην ειναι η τελική κατάσταση ίδια με την αρχική.\n",
    "\n",
    "Χρησιμοποιήστε το `get_backend(\"statevector_simulator\")` για να επιβεβαιώσετε τη δράση των πυλών.\n",
    "\n",
    "Είναι δυνατόν να υπολογίσετε την **πλήρη** δράση μιας άγνωστης πύλης με αυτόν τον τρόπο;"
   ]
  },
  {
   "cell_type": "markdown",
   "metadata": {},
   "source": [
    "### Άσκηση 2.4\n",
    "\n",
    "Βρείτε τη δράση των παρακάτω κυκλωμάτων με πειράματα ή υπολογισμούς και προσπαθήστε να τα απλοποιήσετε.\n",
    "\n",
    "![a](img/lab2/lab2.4a.png)\n",
    "\n",
    "![b](img/lab2/lab2.4b.png)\n",
    "\n",
    "![c](img/lab2/lab2.4c.png)\n",
    "\n",
    "![d](img/lab2/lab2.4d.png)"
   ]
  },
  {
   "cell_type": "markdown",
   "metadata": {},
   "source": [
    "### Άσκηση 2.5\n",
    "\n",
    "Συνδεθείτε στον λογαριασμό σας στην IBM και εκτελέστε το παρακάτω πείραμα με backend `ibmq_qasm_simulator`.\n",
    "\n",
    "![](img/lab2/lab2.5.png)"
   ]
  },
  {
   "cell_type": "markdown",
   "metadata": {},
   "source": [
    "### Άσκηση 2.6\n",
    "\n",
    "Υπολογίστε τη δράση του παρακάτω κυκλώματος θεωρώντας το πρώτο qubit, μετά τη δράση της `u3`, ως μια άγνωστη γενική κατάσταση $a\\left|0\\right> + b\\left|1\\right>$.\n",
    "\n",
    "![what](img/lab2/tcirc.png)\n",
    "\n",
    "Βάλτε παραμέτρους της επιλογής σας στην πύλη `u3` και επιβεβαιώστε τους υπολογισμούς σας τρέχοντας πειραμα με backend το `ibmq_qasm_simulator`.\n",
    "\n"
   ]
  },
  {
   "cell_type": "markdown",
   "metadata": {},
   "source": [
    "# Παραδείγματα"
   ]
  },
  {
   "cell_type": "code",
   "execution_count": 4,
   "metadata": {},
   "outputs": [
    {
     "data": {
      "image/png": "[encoded data removed]",
      "text/plain": [
       "<Figure size 361.2x138.46 with 1 Axes>"
      ]
     },
     "execution_count": 4,
     "metadata": {},
     "output_type": "execute_result"
    }
   ],
   "source": [
    "import qiskit as qlib\n",
    "\n",
    "qr = qlib.QuantumRegister(2, 'q')\n",
    "circ = qlib.QuantumCircuit(qr)\n",
    "circ.h(qr[0])\n",
    "circ.cy(qr[0],qr[1])\n",
    "circ.barrier()\n",
    "circ.draw(output='mpl')"
   ]
  },
  {
   "cell_type": "code",
   "execution_count": 10,
   "metadata": {},
   "outputs": [
    {
     "name": "stdout",
     "output_type": "stream",
     "text": [
      "[0.70710678+0.j         0.        +0.j         0.        +0.j\n",
      " 0.        +0.70710678j]\n"
     ]
    }
   ],
   "source": [
    "# Τελική κατάσταση του παραπάνω κυκλώματος\n",
    "\n",
    "backend = qlib.BasicAer.get_backend('statevector_simulator')\n",
    "\n",
    "result = qlib.execute(circ, backend).result()\n",
    "state = result.get_statevector(circ)\n",
    "print(state)"
   ]
  },
  {
   "cell_type": "markdown",
   "metadata": {},
   "source": [
    "## Σημειώσεις"
   ]
  },
  {
   "cell_type": "markdown",
   "metadata": {},
   "source": [
    "## 1\n",
    "\n",
    "Μερικές από τις κοινά χρησιμοποιούμενες πύλες:\n",
    "\n",
    "### 1-qubit\n",
    "\n",
    "**X, Y, Z, T, S, H**\n",
    "\n",
    "Δηλώνονται αντίστοιχα (`circuit.`) `x`,`y`,`z`,`t`,`s`,`h`.\n",
    "\n",
    "![1qubitgates](img/1qubit.png)\n",
    "\n",
    "Η δράση τους στη βάση (0,1):\n",
    "\n",
    "| f | X | Y | Z |\n",
    "| -- | -- | -- | -- |\n",
    "|$$\n",
    "\\begin{align}\n",
    "\\mathrm{f}\\,\\left|0\\right> &\\to \\\\\n",
    "\\mathrm{f}\\,\\left|1\\right> &\\to \\\\\n",
    "\\end{align}\n",
    "$$|$$\n",
    "\\begin{align}\n",
    "\\left|1\\right>\\\\\\left|0\\right>\n",
    "\\end{align}\n",
    "$$|$$\n",
    "\\begin{align}\n",
    "-i\\left|1\\right>\\\\i\\left|0\\right>\n",
    "\\end{align}\n",
    "$$|$$\n",
    "\\begin{align}\n",
    "\\left|0\\right>\\\\-\\left|1\\right>\n",
    "\\end{align}\n",
    "$$|\n",
    "\n",
    "| f | S | T | H |\n",
    "| -- | -- | -- | -- |\n",
    "|$$\n",
    "\\begin{align}\n",
    "\\mathrm{f}\\,\\left|0\\right> &\\to \\\\\n",
    "\\mathrm{f}\\,\\left|1\\right> &\\to \\\\\n",
    "\\end{align}\n",
    "$$|$$\n",
    "\\begin{align}\n",
    "\\left|0\\right>\\\\i\\left|1\\right>\n",
    "\\end{align}\n",
    "$$|$$\n",
    "\\begin{align}\n",
    "\\left|0\\right>\\\\e^{i\\pi/4}\\left|1\\right>\n",
    "\\end{align}\n",
    "$$|$$\n",
    "\\begin{align}\n",
    "(\\left|0\\right> + \\left|1\\right>)/\\sqrt{2}\\\\(\\left|0\\right> - \\left|1\\right>)/\\sqrt{2}\n",
    "\\end{align}\n",
    "$$|\n",
    "\n",
    "### 2-qubit\n",
    "\n",
    "Πύλη **SWAP** και πύλες **cU**, όπου **U** μπορεί να είναι οποιαδήποτε πύλη, πχ \n",
    "cX, cY, cZ κλπ.\n",
    "\n",
    "Δηλώνονται με `circuit.swap` και `circuit.cx`, `circuit.cy` κλπ. όταν η U είναι μία από τις πύλες X,Y,Z,T,S,H.\n",
    "\n",
    "|SWAP | cH | cZ | cY |\n",
    "|--|--|--|--|\n",
    "|![swap](img/swap.png)|![ch](img/ch.png)|![cz](img/cz.png)|![cy](img/cy.png)|\n",
    "\n",
    "\n",
    "Η δράση τους στη βάση:\n",
    "\n",
    "$$\n",
    "\\begin{align}\n",
    "\\mathrm{SWAP}\\,\\left|00\\right> &= \\left|00\\right> \\\\\n",
    "\\mathrm{SWAP}\\,\\left|01\\right> &= \\left|10\\right> \\\\\n",
    "\\mathrm{SWAP}\\,\\left|10\\right> &= \\left|01\\right> \\\\\n",
    "\\mathrm{SWAP}\\,\\left|11\\right> &= \\left|11\\right> \\\\\n",
    "\\end{align}\n",
    "$$\n",
    "\n",
    "$$\n",
    "\\begin{align}\n",
    "\\mathrm{cU}\\,\\left|00\\right> &= \\left|00\\right> \\\\\n",
    "\\mathrm{cU}\\,\\left|01\\right> &= \\left|01\\right> \\\\\n",
    "\\mathrm{cU}\\,\\left|10\\right> &= \\left|1\\right>\\,\\otimes U\\left|0\\right> \\\\\n",
    "\\mathrm{cU}\\,\\left|11\\right> &= \\left|1\\right>\\, \\otimes U\\left|1\\right> \\\\\n",
    "\\end{align}\n",
    "$$\n",
    "\n",
    "\n",
    "### 3-qubit\n",
    "\n",
    "Πύλη **Toffoli**. Δηλώνεται με `circuit.ccx`.\n",
    "\n",
    "![toffoli](img/toffoli.png)\n",
    "\n",
    "$$\n",
    "\\begin{align}\n",
    "\\mathrm{ccx}\\,\\left|110\\right> &= \\left|111\\right> \\\\\n",
    "\\mathrm{ccx}\\,\\left|111\\right> &= \\left|110\\right> \\\\\n",
    "\\end{align}\n",
    "$$"
   ]
  },
  {
   "cell_type": "markdown",
   "metadata": {},
   "source": [
    "## 2\n",
    "\n",
    "Η Qiskit μας δίνει γενικές πύλες 1-qubit από τις οποίες μπορούμε να δημιουργήσουμε άλλες πύλες.\n",
    "\n",
    "Η γενικότερη είναι η  `u3(θ,φ,λ)`:\n",
    "\n",
    "\\begin{split}U_3(θ,φ,λ) = \\begin{pmatrix} \\cos(\\theta/2) & -e^{i\\lambda}\\sin(\\theta/2) \\\\ e^{i\\phi}\\sin(\\theta/2)\n",
    "& e^{i\\lambda+i\\phi}\\cos(\\theta/2) \\end{pmatrix}.\\end{split}\n",
    "\n",
    "Οι `u2` και `u1` είναι:\n",
    "\n",
    "\\begin{align*}\n",
    "U_2(φ,λ) &= U_3(π/2,φ,λ)\\\\\n",
    "U_1(λ) &= U_3(0,0,λ)\n",
    "\\end{align*}"
   ]
  },
  {
   "cell_type": "markdown",
   "metadata": {},
   "source": [
    "## 3\n",
    "\n",
    "Αντίστοιχο με το backend `qasm_simulator` που είδαμε, υπάρχει το `statevector_simulator` που μπορεί να μας επιστρέψει την **κβαντική** κατάσταση ενός\n",
    "κυκλώματος. \n",
    "\n",
    "Το χρησιμοποιούμε ακριβώς όπως και το `qasm_simulator`:\n",
    "\n",
    "```python\n",
    "# Δηλώνουμε το backend στην αρχή του προγράμματός μας:\n",
    "eng = BasicAer.get_backend('statevector_simulator')\n",
    "\n",
    "# Ζητάμε την κατάσταση σε όποιο σημείο του κυκλώματος θέλουμε:\n",
    "result = execute(circuit, eng).result()\n",
    "state = result.get_statevector(circuit)\n",
    "print(state)\n",
    "```"
   ]
  },
  {
   "cell_type": "markdown",
   "metadata": {},
   "source": [
    "## 4.α\n",
    "\n",
    "Σύνδεση λογαριασμού στο quantum computing cloud της IBM:\n",
    "\n",
    "1. Δημιουργία λογαριασμού [IBMQ](https://quantumexperience.ng.bluemix.net/)\n",
    "2. Δημιουργία `API token` από το λογαριασμό (My Account > Advanced > API Token)\n",
    "3. Αντιγραφή του `API token` και τρέξιμο του κώδικα:\n",
    "```python\n",
    "from qiskit import IBMQ\n",
    "IBMQ.save_account('<paste API token εδώ>')\n",
    "```\n",
    "\n",
    "## 4.β\n",
    "\n",
    "Χρήση λογαριασμού IBMQ:\n",
    "\n",
    "```python\n",
    "from qiskit import IBMQ\n",
    "IBMQ.load_accounts()\n",
    "\n",
    "## Επιλογή backend.\n",
    "backend = IBMQ.get_backend('ibmq_qasm_simulator')\n",
    "```\n",
    "\n",
    "Προς το παρών θα το χρησιμοποιήσουμε ακριβώς όπως το αντίστοιχο Aer backend. Σωστότερη χρήση του online backend θα δούμε αργότερα.\n"
   ]
  },
  {
   "cell_type": "markdown",
   "metadata": {},
   "source": [
    "## 5\n",
    "\n",
    "Για παραδείγματα και λεπτομέρειες τις βιβλιοθήκης Qiskit μπορείτε να ανατρέχετε στο επίσημο documentation:\n",
    "\n",
    "https://qiskit.org/documentation/overview.html"
   ]
  }
 ],
 "metadata": {
  "kernelspec": {
   "display_name": "Python 3",
   "language": "python",
   "name": "python3"
  },
  "language_info": {
   "codemirror_mode": {
    "name": "ipython",
    "version": 3
   },
   "file_extension": ".py",
   "mimetype": "text/x-python",
   "name": "python",
   "nbconvert_exporter": "python",
   "pygments_lexer": "ipython3",
   "version": "3.6.7"
  }
 },
 "nbformat": 4,
 "nbformat_minor": 2
}
