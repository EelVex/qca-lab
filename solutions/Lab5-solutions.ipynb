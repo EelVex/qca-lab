{
 "cells": [
  {
   "cell_type": "markdown",
   "metadata": {},
   "source": [
    "# Εργαστήριο 5 - Απαντήσεις"
   ]
  },
  {
   "cell_type": "code",
   "execution_count": null,
   "metadata": {},
   "outputs": [],
   "source": [
    "import qiskit as qlib\n",
    "qlib.IBMQ.load_accounts()"
   ]
  },
  {
   "cell_type": "markdown",
   "metadata": {},
   "source": [
    "## Άκσηση 5.1"
   ]
  },
  {
   "cell_type": "code",
   "execution_count": 2,
   "metadata": {},
   "outputs": [
    {
     "name": "stdout",
     "output_type": "stream",
     "text": [
      "Πύλες: ['u1', 'u2', 'u3', 'cx', 'id']\n",
      "[[1, 0], [2, 0], [2, 1], [3, 2], [3, 4], [4, 2]]\n",
      "Πύλες: ['u1', 'u2', 'u3', 'cx', 'id']\n",
      "[[0, 1], [0, 2], [1, 2], [3, 2], [3, 4], [4, 2]]\n",
      "Πύλες: ['u1', 'u2', 'u3', 'cx', 'id']\n",
      "[[1, 0], [1, 2], [2, 3], [4, 3], [4, 10], [5, 4], [5, 6], [5, 9], [6, 8], [7, 8], [9, 8], [9, 10], [11, 3], [11, 10], [11, 12], [12, 2], [13, 1], [13, 12]]\n",
      "Πύλες: ['u1', 'u2', 'u3', 'cx', 'cz', 'id', 'x', 'y', 'z', 'h', 's', 'sdg', 't', 'tdg', 'ccx', 'swap', 'unitary', 'initialize', 'kraus']\n"
     ]
    }
   ],
   "source": [
    "def show_me(be_name):\n",
    "    backend = qlib.IBMQ.get_backend(be_name)\n",
    "    conf = backend.configuration()\n",
    "    print(\"Πύλες: {}\".format(conf.basis_gates))\n",
    "    # To 'ibmq_qasm_simulator' δεν εχει coupling_map\n",
    "    if conf.backend_name != \"ibmq_qasm_simulator\":\n",
    "        for a_gate in range(len(conf.basis_gates)):\n",
    "            if conf.gates[a_gate].name == 'cx':\n",
    "                print(conf.gates[a_gate].coupling_map)\n",
    "    \n",
    "for i in qlib.IBMQ.backends():\n",
    "    show_me(i.name())"
   ]
  },
  {
   "cell_type": "markdown",
   "metadata": {},
   "source": [
    "## Άσκηση 5.2"
   ]
  },
  {
   "cell_type": "markdown",
   "metadata": {},
   "source": [
    "```python\n",
    "backend = qlib.IBMQ.get_backend(\"ibmq_qasm_simulator\")\n",
    "\n",
    "# circuits\n",
    "qr = qlib.QuantumRegister(2,'q')\n",
    "cr = qlib.ClassicalRegister(2, 'c')\n",
    "circuit1 = qlib.QuantumCircuit(qr, cr)\n",
    "...\n",
    "circuit2 = ...\n",
    "\n",
    "# compilation κυκλώματος\n",
    "cc1 = qlib.compile(circuit1, backend)\n",
    "cc2 = qlib.compile(circuit2, backend)\n",
    "cc3 = qlib.compile(circuit3, backend)\n",
    "```"
   ]
  },
  {
   "cell_type": "markdown",
   "metadata": {},
   "source": [
    "## Άσκηση 5.3"
   ]
  },
  {
   "cell_type": "code",
   "execution_count": 3,
   "metadata": {},
   "outputs": [],
   "source": [
    "def show_results(a_job):\n",
    "    results = a_job.result()\n",
    "    print(\"Status: \" + results.status)\n",
    "    print(\"Ημερομηνία εκτέλεσης: \" + a_job.creation_date())\n",
    "    print(\"Backend: \" + results.backend_name)\n",
    "    print(\"Αποτελέσματα μετρήσεων:\")\n",
    "    print(results.get_counts())"
   ]
  },
  {
   "cell_type": "markdown",
   "metadata": {},
   "source": [
    "## Άσκηση 5.4"
   ]
  },
  {
   "cell_type": "code",
   "execution_count": 5,
   "metadata": {},
   "outputs": [
    {
     "data": {
      "image/png": "[encoded data removed]",
      "text/plain": [
       "<Figure size 722.4x198.66 with 1 Axes>"
      ]
     },
     "execution_count": 5,
     "metadata": {},
     "output_type": "execute_result"
    }
   ],
   "source": [
    "coupling_map = [[1, 0], [2, 0], [2, 1], [3, 2], [3, 4], [4, 2]]\n",
    "\n",
    "def my_cx(circuit, qr, q0, q1):\n",
    "    if [q0,q1] in coupling_map:\n",
    "        circuit.cx(qr[q0], qr[q1])\n",
    "    elif [q1,q0] in coupling_map:\n",
    "        circuit.swap(qr[q0], qr[q1])\n",
    "        circuit.cx(qr[q1], qr[q0])\n",
    "        circuit.swap(qr[q0], qr[q1])\n",
    "    else:\n",
    "        print(\"tricky\")\n",
    "        \n",
    "q = qlib.QuantumRegister(3, 'q')\n",
    "circuit = qlib.QuantumCircuit(q)\n",
    "my_cx(circuit, q, 1, 0)\n",
    "circuit.barrier()\n",
    "my_cx(circuit, q, 0, 1)\n",
    "circuit.barrier()\n",
    "my_cx(circuit, q, 0, 2)\n",
    "circuit.draw(output='mpl')"
   ]
  }
 ],
 "metadata": {
  "kernelspec": {
   "display_name": "Python 3",
   "language": "python",
   "name": "python3"
  },
  "language_info": {
   "codemirror_mode": {
    "name": "ipython",
    "version": 3
   },
   "file_extension": ".py",
   "mimetype": "text/x-python",
   "name": "python",
   "nbconvert_exporter": "python",
   "pygments_lexer": "ipython3",
   "version": "3.6.7"
  }
 },
 "nbformat": 4,
 "nbformat_minor": 2
}
