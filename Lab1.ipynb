{
 "cells": [
  {
   "cell_type": "markdown",
   "metadata": {},
   "source": [
    "# Εργαστήριο 1\n",
    "\n",
    "Εισαγωγή στη χρήση της βιβλιοθήκης Qiskit με απλά κβαντικά κυκλώματα."
   ]
  },
  {
   "cell_type": "markdown",
   "metadata": {},
   "source": [
    "## Ασκήσεις\n",
    "\n",
    "Δημιουργήστε ένα καινούργιο jupyter-notebook ή ένα καινούργιο αρχείο python στον editor σας.\n",
    "\n",
    "Θα χρειαστείτε τις μεθόδους 'ClassicalRegister', 'QuantumRegister' και 'QuantumCircuit' από την βιβλιοθήκη Qiskit.\n",
    "Φορτώστε τες στις πρώτες γραμμές του κώδικά σας και δουλέψτε τις παρακάτω ασκήσεις."
   ]
  },
  {
   "cell_type": "markdown",
   "metadata": {},
   "source": [
    "### Άσκηση 1.1\n",
    "\n",
    "\n",
    "Δημιουργήστε τα παρακάτω κυκλώματα\n",
    "\n",
    "![a](img/lab1/lab1.1a.png)\n",
    "\n",
    "![b](img/lab1/lab1.1b.png)\n",
    "\n",
    "![c](img/lab1/lab1.1c.png)\n",
    "\n",
    "![d](img/lab1/lab1.1d.png)\n",
    "\n",
    "![e](img/lab1/lab1.1e.png)"
   ]
  },
  {
   "cell_type": "markdown",
   "metadata": {},
   "source": [
    "### Άσκηση 1.2\n",
    "\n",
    "Φορτώστε επιπλέον τα 'BasicAer' και 'execute' από την βιβλιοθήκη qiskit.\n",
    "\n",
    "Για τα παρακάτω κυκλώματα υπολογίστε ποιά είναι η πιθανότητα μέτρησης της κάθε κατάστασης.\n",
    "Προσωμοιώστε τα κυκλώματα και επιβεβαιώστε οτι οι μετρήσεις δίνουν αυτό που περιμένετε. \n",
    "\n",
    "![a](img/lab1/lab1.2a.png)\n",
    "\n",
    "| Κατάσταση | Πιθανότητα | Πείραμα |\n",
    "| ---- | ---| --- |\n",
    "| 0 |  |\n",
    "| 1 | | |\n",
    "\n",
    "\n",
    "\n",
    "![b](img/lab1/lab1.2b.png)\n",
    "\n",
    "| Κατάσταση | Πιθανότητα | Πείραμα |\n",
    "| ---- | ---- | ---- |\n",
    "| 00 |   |\n",
    "| 01 |  |\n",
    "| 10 |   |\n",
    "| 11 |  |  | \n"
   ]
  },
  {
   "cell_type": "markdown",
   "metadata": {},
   "source": [
    "### Άσκηση 1.3"
   ]
  },
  {
   "cell_type": "markdown",
   "metadata": {},
   "source": [
    "Χρησιμοποιώντας την πύλη H, δημιουργήστε ένα κύκλωμα υπέρθεσης καταστάσεων ενός qubit. Προσωμοιώστε το κύκλωμα για να επιβεβαιώσετε οτι η πιθανότητα μέτρησης κάθε κατάστασης είναι αυτή που περιμένετε. \n",
    "\n",
    "Κάντε το ίδιο για 2-qubit."
   ]
  },
  {
   "cell_type": "markdown",
   "metadata": {},
   "source": [
    "### Άσκηση 1.4\n",
    "\n",
    "Το παρακάτω κύκλωμα δημιουργεί μια κατάσταση Bell. Υπολογίστε ποια κατάσταση Bell δημιουργεί."
   ]
  },
  {
   "cell_type": "markdown",
   "metadata": {},
   "source": [
    "```python\n",
    "import qiskit as qlib\n",
    "\n",
    "qbits = qlib.QuantumRegister(2,'q')\n",
    "circuit = qlib.QuantumCircuit(qbits)\n",
    "circuit.h(qbits[0])\n",
    "circuit.cx(qbits[0],qbits[1])\n",
    "```\n",
    "\n",
    "![](img/lab1/lab1.4.png)"
   ]
  },
  {
   "cell_type": "markdown",
   "metadata": {},
   "source": [
    "Προσθέστε μετρήσεις στα δυο qubits και προσωμοιώστε το κύκλωμα για να επαληθεύσετε τους υπολογισμούς σας.\n",
    "\n",
    "Μπορείτε να δημιουργήσετε διαφορετική κατάσταση Bell προσθέτοντας μια πύλη X στο κύκλωμα;"
   ]
  },
  {
   "cell_type": "markdown",
   "metadata": {},
   "source": [
    "### Άσκηση 1.5\n",
    "\n",
    "Η πύλη Y είναι μια πύλη 1 qubit παρόμοια με την X. Φτιάξτε τα παρακάτω κύκλωμα και με μετρήσεις προσπαθήστε να συμπεράνετε τη δράση της Υ.\n",
    "\n",
    "Είναι δυνατόν να ανακαλύψουμε την ακριβή δράση της Υ με μετρήσεις σε 1 qubit;\n",
    "\n",
    "![a](img/lab1/lab1.5a.png)\n",
    "\n",
    "![b](img/lab1/lab1.5b.png)\n",
    "\n",
    "![c](img/lab1/lab1.5c.png)"
   ]
  },
  {
   "cell_type": "markdown",
   "metadata": {},
   "source": [
    "# Παραδείγματα"
   ]
  },
  {
   "cell_type": "code",
   "execution_count": 2,
   "metadata": {},
   "outputs": [
    {
     "data": {
      "image/png": "[encoded data removed]",
      "text/plain": [
       "<Figure size 240.8x138.46 with 1 Axes>"
      ]
     },
     "execution_count": 2,
     "metadata": {},
     "output_type": "execute_result"
    }
   ],
   "source": [
    "import qiskit as qlib\n",
    "\n",
    "qbits = qlib.QuantumRegister(2)\n",
    "circuit = qlib.QuantumCircuit(qbits)\n",
    "circuit.x(qbits[0])\n",
    "circuit.draw(output='mpl')"
   ]
  },
  {
   "cell_type": "code",
   "execution_count": 3,
   "metadata": {},
   "outputs": [
    {
     "data": {
      "image/png": "[encoded data removed]",
      "text/plain": [
       "<Figure size 301x78.26 with 1 Axes>"
      ]
     },
     "execution_count": 3,
     "metadata": {},
     "output_type": "execute_result"
    }
   ],
   "source": [
    "# Δεν χρειάζεται να φορτώνουμε την βιβλιοθήκη κάθε φορά, αρκεί μία στην\n",
    "# αρχή. Εδώ το κάνουμε για να δείξουμε τους διαφορετικούς τρόπους.\n",
    "from qiskit import QuantumCircuit, ClassicalRegister, QuantumRegister\n",
    "qr = QuantumRegister(1,'x')\n",
    "qc = QuantumCircuit(qr)\n",
    "qc.x(qr[0])\n",
    "qc.h(qr[0])\n",
    "qc.draw(output='mpl')"
   ]
  },
  {
   "cell_type": "code",
   "execution_count": 4,
   "metadata": {},
   "outputs": [
    {
     "data": {
      "image/png": "[encoded data removed]",
      "text/plain": [
       "<Figure size 361.2x198.66 with 1 Axes>"
      ]
     },
     "execution_count": 4,
     "metadata": {},
     "output_type": "execute_result"
    }
   ],
   "source": [
    "from qiskit import QuantumCircuit, ClassicalRegister, QuantumRegister\n",
    "\n",
    "qbits = QuantumRegister(2,'x')\n",
    "cbits = ClassicalRegister(1,'c')\n",
    "circuit = QuantumCircuit(qbits, cbits)\n",
    "circuit.x(qbits[0])\n",
    "circuit.h(qbits[1])\n",
    "circuit.measure(qbits[1],cbits[0])\n",
    "circuit.draw(output='mpl')"
   ]
  },
  {
   "cell_type": "code",
   "execution_count": 5,
   "metadata": {},
   "outputs": [
    {
     "data": {
      "image/png": "[encoded data removed]",
      "text/plain": [
       "<Figure size 301x138.46 with 1 Axes>"
      ]
     },
     "execution_count": 5,
     "metadata": {},
     "output_type": "execute_result"
    }
   ],
   "source": [
    "from qiskit import QuantumCircuit, ClassicalRegister, QuantumRegister\n",
    "from qiskit import BasicAer, execute\n",
    "engine = BasicAer.get_backend('qasm_simulator')\n",
    "\n",
    "qbits = QuantumRegister(1,'x')\n",
    "cbits = ClassicalRegister(1,'c')\n",
    "circuit = QuantumCircuit(qbits, cbits)\n",
    "circuit.x(qbits[0])\n",
    "circuit.measure(qbits,cbits)\n",
    "circuit.draw(output='mpl')"
   ]
  },
  {
   "cell_type": "code",
   "execution_count": 7,
   "metadata": {},
   "outputs": [
    {
     "name": "stdout",
     "output_type": "stream",
     "text": [
      "{'1': 1000}\n"
     ]
    }
   ],
   "source": [
    "result = execute(circuit, engine, shots=1000).result()\n",
    "count = result.get_counts(circuit)\n",
    "print(count)"
   ]
  },
  {
   "cell_type": "markdown",
   "metadata": {},
   "source": [
    "```python\n",
    "# Μπορούμε να χρησιμοποιήσουμε τη μέθοδο 'plot_histogram' για \n",
    "# καλύτερη απεικονιση των αποτελεσμάτων.\n",
    "from qiskit.tools.visualization import plot_histogram\n",
    "\n",
    "plot_histogram(count)\n",
    "```\n",
    "\n",
    "![](img/lab1/histogram.png)"
   ]
  },
  {
   "cell_type": "markdown",
   "metadata": {},
   "source": [
    "## Σημειώσεις"
   ]
  },
  {
   "cell_type": "markdown",
   "metadata": {},
   "source": [
    "## 1\n",
    "\n",
    "Ένα **qubit** είναι μια κβαντική καταστάση δυο επιπέδων. Χρησιμοποιούμε συνήθως τη βάση $\\left|0\\right>, \\left|1\\right>$, οπότε ενα qubit αντιστοιχεί σε μια κατάσταση: \n",
    "\n",
    "$$\n",
    "\\mathrm{qbit} \\to a\\left|0\\right> + b\\left|1\\right>.\n",
    "$$\n",
    "Στο μοντέλο των κυκλωμάτων τα qubits συμβολίζονται με οριζόντιες γραμμές.\n",
    "\n",
    "Μια ομάδα qubits ονάζεται και **quantum register**.\n",
    "\n",
    "**Κβαντικές πύλες** ειναι οι δράσεις πάνω στα qubits. \n",
    "\n",
    "$$\n",
    "\\mathrm{gate:U} \\to U(a\\left|0\\right> + b\\left|1\\right>) = a'\\left|0\\right> + b'\\left|1\\right>.\n",
    "$$\n",
    "Οποιοσδήποτε μοναδιαίος τελεστής της κβαντομηχανικής είναι πύλη.\n",
    "\n",
    "\n",
    "Οι πύλες συμβολίζονται με ορθογώνια πάνω στις γραμμές των qubit που δρουν.\n",
    "Η σειρά που εμφανίζονται είναι η σειρά που δρουν, από αριστερά προς τα δεξιά.\n",
    "\n",
    "**Κβαντικό Κύκλωμα** είναι μια ομάδα από qubits και κβαντικές πύλες.\n",
    "\n"
   ]
  },
  {
   "cell_type": "markdown",
   "metadata": {},
   "source": [
    "## 2\n",
    "\n",
    "Δημιουργούμε μια σειρά από qubits (quantum register) με την εντολή:\n",
    "```python\n",
    "qbits = QuantumRegister(n)\n",
    "```\n",
    "αντίστοιχα για κλασσικά bits:\n",
    "```python\n",
    "cbits = ClassicalRegister(n)\n",
    "```\n",
    "\n",
    "Ένα κβαντικό κύκλωμα δηλώνεται αρχικά με βάση τα qubits και classical bits που περιλαμβάνει:\n",
    "```python\n",
    "circuit = QuantumCircuit(qbits, cbits)\n",
    "```\n",
    "και στη συνέχεια προσθέτουμε τις πύλες με τη σειρά που εμφανίζονται, σε κάθε qubit:\n",
    "```python\n",
    "circuit.πύληΑ(qbit[0])\n",
    "circuit.πύληΒ(qbit[1])\n",
    "circuit.πύληA(qbit[0], qbit[2])\n",
    "...\n",
    "```\n"
   ]
  },
  {
   "cell_type": "markdown",
   "metadata": {},
   "source": [
    "## 3\n",
    "Σε αυτό το εργαστήριο θα χρησιμοποιήσουμε τις πύλες X και H. Θα τις δούμε λεπτομερέστερα στο επόμενο εργαστήριο· προς το παρών αρκεί να ξέρουμε τη δράση τους σε μια κβαντική κατάσταση:\n",
    "\n",
    "$$\n",
    "\\left|\\psi\\right>  = a\\left|0\\right> + b \\left|1\\right> \\\\\n",
    "X\\left|\\psi\\right> = b\\left|0\\right> + a \\left|1\\right> \\\\\n",
    "H\\left|\\psi\\right> = (a+b)\\left|0\\right> + (a-b) \\left|1\\right> \n",
    "$$\n",
    "\n",
    "ή, ισοδύναμα, τη δράση τους στις καταστάσεις της βάσης:\n",
    "\n",
    "$$\n",
    "X\\left|0\\right> = \\left|1\\right>\\\\\n",
    "X\\left|1\\right> = \\left|0\\right> \\\\\n",
    "H\\left|0\\right> = \\frac{1}{\\sqrt{2}}(\\left|0\\right> + \\left|1\\right>)\\\\\n",
    "H\\left|1\\right> = \\frac{1}{\\sqrt{2}}(\\left|0\\right> - \\left|1\\right>) \n",
    "$$\n",
    "\n",
    "Στη βιβλιοθήκη Qiskit οι πύλες αυτές αναφέρονται ως `x` και `h`:\n",
    "```python\n",
    "circuit.x(qreg[0])   # Προσθέτει την πύλη X στο πρώτο qubit του qreg \n",
    "circuit.h(qreg[1])   # Προσθέτει την πύλη H στο δεύτερο qubit του qreg\n",
    "```"
   ]
  },
  {
   "cell_type": "markdown",
   "metadata": {},
   "source": [
    "## 4\n",
    "\n",
    "Για να δούμε γραφικά ένα κύκλωμα που έχουμε δημιουργήσει, χρησιμοποιούμε τις εντολές:\n",
    "\n",
    "```python\n",
    "print(circuit)              # text\n",
    "circuit.draw()              # text\n",
    "circuit.draw(output='mpl')  # εικόνα \n",
    "circuit.draw(output='latex_source') # εικόνα για latex\n",
    "```\n",
    "\n",
    "Για να *αποθηκεύσουμε* το κύκλωμα σε εικόνα, μπορούμε να χρησιμοποιήσουμε το παρακάτω:\n",
    "```python\n",
    "diagram = circuit.draw(output='mpl')\n",
    "diagram.savefig(\"circuit.png\", format=\"png\")\n",
    "```"
   ]
  },
  {
   "cell_type": "markdown",
   "metadata": {},
   "source": [
    "## 5\n",
    "\n",
    "Η βιβλιοθήκη Qiskit μας δίνει \"μεθόδους\" (παρόμοιο του \"function\" ή \"subroutine\" της fortran). Οι βασικές μέθοδοι είναι:\n",
    "\n",
    "```python\n",
    "QuantumRegister(n)    # Ορίζει n qubits\n",
    "ClassicalRegister(n)  # Ορίζει n κλασικά bits\n",
    "QuantumCircuit(qbits, cbits) # Ορίζει κύκλωμα \n",
    "```"
   ]
  },
  {
   "cell_type": "markdown",
   "metadata": {},
   "source": [
    "## 6\n",
    "\n",
    "Για να φορτώσουμε τη βιβλιοθήκη Qiskit χρησιμοποιούμε την εντολή\n",
    "```python\n",
    "import qiskit as qlib\n",
    "```\n",
    "Έτσι έχουμε όλες τις μεθόδους της βιβλιοθήκης διαθέσιμες μέσω του ονόματος που δηλώσαμε (**qlib**). Για παράδειγμα:\n",
    "```python\n",
    "qbits = qlib.QuantumRegister(2)\n",
    "```\n",
    "\n",
    "Εναλλάκτικά, μπορούμε να φορτώσουμε συγκεκριμένες, μόνο, μεθόδους της βιβλιοθήκης, γράφοντας:\n",
    "```python\n",
    "from qiskit import QuantumCircuit, ClassicalRegister, QuantumCircuit\n",
    "\n",
    "qbits = QuantumRegister(2)\n",
    "```\n",
    "\n",
    "Τις παραπάνω εντολές τις γράφουμε μόνο μια φορά στην αρχή κάθε αρχείου."
   ]
  },
  {
   "cell_type": "markdown",
   "metadata": {},
   "source": [
    "## 7.α\n",
    "\n",
    "Για να μετρήσουμε την κατάσταση ενός qubit πρέπει να προσθέσουμε μια \"πύλη\" μέτρησης. Η εντολή για την πύλη μέτρησης είναι:\n",
    "```python\n",
    "circuit.measure(qbit[n], cbit[k])\n",
    "```\n",
    "και πρέπει να ξεκινάει από ένα qubit και να καταλήγει σε ένα κλασσικό bit.\n",
    "\n",
    "## 7.β\n",
    "\n",
    "Για να προσωμοιώσουμε ένα κύκλωμα χρησιμοποιούμε μια 'μηχανή' προσωμοίωσης. Η βιβλιοθήκη Qiskit προσφέρει αρκετές διαφορετικές επιλογές. Προς το παρών θα χρησιμοποιούμε μόνο την μηχανή 'qasm_simulator'. Για να την χρησιμοποιήσουμε πρέπει να έχουμε φορτώσει τις μεθόδους 'BasicAer' και 'execute' και να την δηλώσουμε, για παράδειγμα ως εξής:\n",
    "\n",
    "```python\n",
    "from qiskit import BasicAer, execute\n",
    "\n",
    "engine = BasicAer.get_backend('qasm_simulator')\n",
    "```\n",
    "\n",
    "Η μηχανή αρκεί να δηλωθεί μια φορά μόνο για όσες προσωμοιώσεις θέλουμε να κάνουμε.\n",
    "\n",
    "Τα αποτελέσματα της προσωμοίωσης τα παίρνουμε με την εντολή:\n",
    "```python\n",
    "result = execute(circuit, engine).result()\n",
    "counts = result.get_counts(circuit)\n",
    "```\n",
    "Τα παραπάνω θα προσωμοιώσουν τα αποτελέσματα των μετρήσεων του 'circuit' για 1024 \"πειράματα\". Μπορούμε να αλλάξουμε τον αριθμό των πειραμάτων με την παράμετρο 'shots':\n",
    "```python\n",
    "result = execute(circuit, engine, shots = 1000).result()\n",
    "```\n",
    "\n"
   ]
  },
  {
   "cell_type": "markdown",
   "metadata": {},
   "source": [
    "## 8\n",
    "\n",
    "Οι πύλες \"ελέγχου\" (control gates) είναι πύλες που δρουν σε κάποια qubit μόνο αν ισχύουν κάποιες συνθήκες σε άλλα qubit. Θα τις δούμε αναλύτικότερα στα επόμενα εργαστήρια. Σε αυτό το εργαστήριο θα χρησιμοποιήσουμε την πύλη control-X (ή control-not ή C-NOT ή cX) η οποία εφαρμόζει την πύλη X σε ένα qubit μόνο αν το πρώτο qubit βρίσκεται στην κατάσταση \"1\". Δηλαδή:\n",
    "\n",
    "$$\n",
    "\\mathrm{cnot}\\left|00\\right> = \\left| 00 \\right>\\\\\n",
    "\\mathrm{cnot}\\left|01\\right> = \\left| 01 \\right>\\\\\n",
    "\\mathrm{cnot}\\left|10\\right> = \\left| 11 \\right>\\\\\n",
    "\\mathrm{cnot}\\left|11\\right> = \\left| 10 \\right>\\\\\n",
    "$$\n",
    "\n",
    "Στη βιβλιοθήκη Qiskit η πύλη ονομάζεται `cx`."
   ]
  }
 ],
 "metadata": {
  "kernelspec": {
   "display_name": "Python 3",
   "language": "python",
   "name": "python3"
  },
  "language_info": {
   "codemirror_mode": {
    "name": "ipython",
    "version": 3
   },
   "file_extension": ".py",
   "mimetype": "text/x-python",
   "name": "python",
   "nbconvert_exporter": "python",
   "pygments_lexer": "ipython3",
   "version": "3.6.7"
  }
 },
 "nbformat": 4,
 "nbformat_minor": 2
}
