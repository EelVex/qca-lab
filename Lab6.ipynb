{
 "cells": [
  {
   "cell_type": "markdown",
   "metadata": {},
   "source": [
    "# Εργαστήριο 6\n",
    "\n",
    "Quantum Fourier Transform. Δημιουργία πυλών από βασικές διαθέσιμες πύλες."
   ]
  },
  {
   "cell_type": "markdown",
   "metadata": {},
   "source": [
    "## Ασκήσεις\n",
    "\n",
    "Φορτώστε τη βιβλιοθήκη Qiskit σε ένα καινούργιο jupyter-notebook ή αρχείο python και δουλέψτε τις παρακάτω ασκήσεις."
   ]
  },
  {
   "cell_type": "markdown",
   "metadata": {},
   "source": [
    "### Άσκηση 6.1\n",
    "\n",
    "Φτιάξτε μια συνάρτηση που να υλοποιεί τον μετασχηματισμό Fourier όπως φαίνεται παρακάτω.\n",
    "\n",
    "\n",
    "```python\n",
    "def qft(n):\n",
    "    register = qlib.QuantumRegister(n, 'q')\n",
    "    circuit = qlib.QuantumCircuit(register)\n",
    "    for i in range(n):\n",
    "        ...\n",
    "        for m in range ...:\n",
    "            ...\n",
    "        circuit.barrier()\n",
    "    return circuit\n",
    "\n",
    "qr = qlib.QuantumRegister(4,'q')\n",
    "circuit = qlib.QuantumCircuit(qr)\n",
    "circuit.x(qr[0])\n",
    "circuit = circuit + qft(4)\n",
    "circuit.draw(output='mpl')\n",
    "```\n",
    "\n",
    "![](img/x+qft4.png)\n",
    "\n",
    "```python\n",
    "circuit = qft(5)\n",
    "circuit.draw()\n",
    "\n",
    "# Ισοδύναμα: qft(5).draw(output='mpl')\n",
    "```\n",
    "\n",
    "![](img/qft5.png)"
   ]
  },
  {
   "cell_type": "markdown",
   "metadata": {},
   "source": [
    "### Άσκηση 6.2\n",
    "\n",
    "Δημιουργήστε συνάρτηση που δίνει την πυλη control-$R_n$ χρησιμοποιώντας τις πύλες control-not και $R_{n+1}$\n",
    "\n",
    "Αντικαταστήστε τα cu1 της προηγούμενης άσκησης με τη συνάρτηση που φτιάξατε."
   ]
  },
  {
   "cell_type": "markdown",
   "metadata": {},
   "source": [
    "### Άσκηση 6.3\n",
    "\n",
    "Δημιουργήστε τις πύλες $R_z(\\theta), \\sqrt{R_z(\\theta)} $ και $R_x(\\theta), \\sqrt{R_x(\\theta)}$ χρησιμοποιώντας τις βασικές πύλες (u1,u2,u3)."
   ]
  },
  {
   "cell_type": "markdown",
   "metadata": {},
   "source": [
    "### Άσκηση 6.4\n",
    "\n",
    "Δημιουργήστε τις πύλες control-control-Z, control-control-Y, control-control-X και control-control-S.\n"
   ]
  },
  {
   "cell_type": "markdown",
   "metadata": {},
   "source": [
    "# Σημειώσεις"
   ]
  },
  {
   "cell_type": "markdown",
   "metadata": {},
   "source": [
    "## 1\n",
    "\n",
    "Ο κβαντικός μετασχηματισμός Fourier μπορεί να αναπαρασταθεί σε κύκλωμα χρησιμοποιώντας μόνο H και control-$R_n$ πύλες ως εξής:\n",
    "\n",
    "![By Trenar3 - Own work, CC BY-SA 4.0, https://commons.wikimedia.org/w/index.php?curid=66422968](img/Qfourier_nqubits.png)\n",
    "\n",
    "$$cR_n = \\begin{pmatrix}1 & 0 & 0 & 0 \\\\ 0 & 1 & 0 & 0 \\\\ 0 & 0 & 1 & 0 \\\\ 0 & 0 & 0 & e^{\\frac{2i\\pi}{2^n}} \\end{pmatrix} $$\n",
    "\n",
    "Υπάρχουν πολλές ισοδύναμες αναπαραστάσεις."
   ]
  },
  {
   "cell_type": "markdown",
   "metadata": {},
   "source": [
    "## 2.α\n",
    "\n",
    "Γράφωντας μια πύλη U ως \n",
    "\n",
    "$$ U = e^{ia}R_z(b)R_y(c)R_z(d)$$ μπορούμε να δημιουργήσουμε την control-U χρησιμοποιώντας τις πύλες\n",
    "\n",
    "$$ \\begin{align*}A &= R_z((d-b)/2)\\\\ B &= R_y(-c/2)R_z(-(d+b)/2)\\\\ C &= R_z(b)R_y(c/2)\\\\ \\Delta &= \\mathrm{diag}(1, e^{ia}) \\end{align*}$$\n",
    "\n",
    "![](img/cu-decompose.png)\n",
    "\n",
    "## 2.β\n",
    "\n",
    "$$\\begin{align*} \\Delta(\\theta) &= u1(\\theta) \\\\\n",
    " R_z(\\theta) &= e^{i\\theta/2}u1(-\\theta) \\\\\n",
    " R_y(\\theta) &= u3(\\theta, 0, 0) \\end{align*}$$\n",
    " "
   ]
  },
  {
   "cell_type": "markdown",
   "metadata": {},
   "source": [
    "## 3\n",
    "\n",
    "Η control-$R_n$ μπορεί δημιουργηθεί από τις $R_{n+1}$:\n",
    "\n",
    "![](img/crn-decomposition.png)\n"
   ]
  },
  {
   "cell_type": "markdown",
   "metadata": {},
   "source": [
    "## 4.α\n",
    "\n",
    "Γράφωντας μια πύλη U ως $U = V^2$\n",
    "μπορούμε να δημιουργήσουμε την control-control-U με:\n",
    "\n",
    "![](img/cuv-decomposition.png)\n",
    "\n",
    "\n",
    "## 4.β\n",
    "\n",
    "Όταν $U = X, Y, Z$:\n",
    "\n",
    "$$\\sqrt{U} = e^{i\\pi/4} R_u(\\pi/2) $$"
   ]
  }
 ],
 "metadata": {
  "kernelspec": {
   "display_name": "Python 3",
   "language": "python",
   "name": "python3"
  },
  "language_info": {
   "codemirror_mode": {
    "name": "ipython",
    "version": 3
   },
   "file_extension": ".py",
   "mimetype": "text/x-python",
   "name": "python",
   "nbconvert_exporter": "python",
   "pygments_lexer": "ipython3",
   "version": "3.6.7"
  }
 },
 "nbformat": 4,
 "nbformat_minor": 2
}
