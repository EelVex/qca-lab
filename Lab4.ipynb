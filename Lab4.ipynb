{
 "cells": [
  {
   "cell_type": "markdown",
   "metadata": {},
   "source": [
    "# Εργαστήριο 4\n",
    "\n",
    "Python: `if`, `for`, `def`."
   ]
  },
  {
   "cell_type": "markdown",
   "metadata": {},
   "source": [
    "## Ασκήσεις\n",
    "\n",
    "Φορτώστε τη βιβλιοθήκη Qiskit σε ένα καινούργιο jupyter-notebook ή αρχείο python και δουλέψτε τις παρακάτω ασκήσεις."
   ]
  },
  {
   "cell_type": "markdown",
   "metadata": {},
   "source": [
    "### Άσκηση 4.1\n",
    "\n",
    "Προβλέψτε τι κάνουν τα παρακάτω κομμάτια κώδικα. Τρέξτε τα και επιβεβαιώστε τις προβλέψεις σας.\n",
    "\n",
    "#### 1\n",
    "```python\n",
    "n = 10\n",
    "for i in range(n):\n",
    "    print(2*i)\n",
    "```   \n",
    "\n",
    "#### 2\n",
    "```python\n",
    "n = 10\n",
    "for i in range(n):\n",
    "    if i > 5:\n",
    "        print(i)\n",
    "    print(i+10)\n",
    "```   \n",
    "\n",
    "#### 3\n",
    "```python\n",
    "n = 10\n",
    "for i in range(n):\n",
    "    if i > 5:\n",
    "        print(i)\n",
    "        print(i+10)\n",
    "```   \n",
    "\n",
    "\n",
    "#### 4\n",
    "```python\n",
    "n = 5\n",
    "qr = qlib.QuantumRegister(n, 'q')\n",
    "circ = qlib.QuantumCircuit(qr)\n",
    "for i in range(n):\n",
    "    circ.h(qr[i])\n",
    "```\n",
    "\n",
    "#### 5\n",
    "```python\n",
    "n = 5\n",
    "qr = qlib.QuantumRegister(n, 'q')\n",
    "circ = qlib.QuantumCircuit(qr)\n",
    "for i in range(n):\n",
    "    circ.h(qr[0])\n",
    "```\n",
    "\n",
    "#### 6\n",
    "```python\n",
    "n = 5\n",
    "qr = qlib.QuantumRegister(n, 'q')\n",
    "circ = qlib.QuantumCircuit(qr)\n",
    "for i in range(n):\n",
    "    if i > n/2:\n",
    "        circ.h(qr[i])\n",
    "```\n",
    "\n",
    "#### 7\n",
    "```python\n",
    "n = 5\n",
    "qr = qlib.QuantumRegister(n, 'q')\n",
    "circ = qlib.QuantumCircuit(qr)\n",
    "def cblock(circuit, qa, qb):\n",
    "    circuit.h(qa)\n",
    "    circuit.cx(qa, qb)\n",
    "    \n",
    "cblock(circ, qr[0], qr[2])\n",
    "circ.barrier()\n",
    "cblock(circ, qr[1], qr[2])\n",
    "\n",
    "```"
   ]
  },
  {
   "cell_type": "markdown",
   "metadata": {},
   "source": [
    "### Άσκηση 4.2\n",
    "\n",
    "Υλοποιήστε τα παρακάτω κυκλώματα\n",
    "χρησιμοποιώντας τις δομές `if` και `for` για να κάνετε τον κώδικά σας όσο πιο σύντομο ή απλό μπορείτε.\n",
    "\n",
    "![a](img/lab4/lab4.2a.png)![b](img/lab4/lab4.2b.png)\n",
    "\n",
    "![c](img/lab4/lab4.2c.png)\n",
    "\n",
    "![d](img/lab4/lab4.2d.png)\n",
    "\n",
    "![e](img/lab4/lab4.2e.png)"
   ]
  },
  {
   "cell_type": "markdown",
   "metadata": {},
   "source": [
    "### Άσκηση 4.3\n",
    "\n",
    "Συμπληρώστε τις παρακάτω συναρτήσεις ώστε να δημιουργούνται τα κυκλώματα που φαίνονται.\n",
    "\n",
    "#### a\n",
    "\n",
    "```python\n",
    "def bell(circuit,register,position):\n",
    "    circuit.h(register[position])\n",
    "    ??? \n",
    "    \n",
    "qr = qlib.QuantumRegister(2, 'q')\n",
    "circ = qlib.QuantumCircuit(qr)\n",
    "\n",
    "bell(circ, qr, 0)\n",
    "``` \n",
    "![a](img/lab4/lab4.3a.png)\n",
    "\n",
    "\n",
    "#### b\n",
    "\n",
    "```python\n",
    "def bellij(circuit,register,p1, p2):\n",
    "    ???\n",
    "    ???\n",
    "    circuit.barrier()\n",
    "    \n",
    "qr = qlib.QuantumRegister(3, 'q')\n",
    "circ = qlib.QuantumCircuit(qr)\n",
    "\n",
    "bellij(circ, qr, 0, 1)\n",
    "bellij(circ, qr, 0, 2)\n",
    "```\n",
    "![b](img/lab4/lab4.3b.png)\n",
    "\n",
    "\n",
    "#### c\n",
    "\n",
    "```python\n",
    "def cphase(circuit,register,p1,p2,l):\n",
    "    ???.cu1(???)\n",
    "    ???\n",
    "    \n",
    "qr = qlib.QuantumRegister(3, 'q')\n",
    "circ = qlib.QuantumCircuit(qr)\n",
    "\n",
    "circ.x(qr[0])\n",
    "cphase(circ, qr, 0, 1, 3.14)\n",
    "\n",
    "circ.h(qr[1])\n",
    "cphase(circ, qr, 1, 2, 3.14/2)\n",
    "```\n",
    "\n",
    "![c](img/lab4/lab4.3c.png)\n",
    "\n",
    "#### d\n",
    "\n",
    "```python\n",
    "def cphase2(circuit,qb1,qb2,l):\n",
    "    ???\n",
    "    ???\n",
    "    \n",
    "qr = qlib.QuantumRegister(3, 'q')\n",
    "circ = qlib.QuantumCircuit(qr)\n",
    "\n",
    "circ.x(qr[0])\n",
    "cphase2(circ, qr[0], qr[1], 3.14)\n",
    "\n",
    "circ.h(qr[1])\n",
    "cphase2(circ, qr[1], qr[2], 3.14/2)\n",
    "```\n",
    "\n",
    "![d](img/lab4/lab4.3c.png)\n",
    "\n",
    "#### e\n",
    "\n",
    "```python\n",
    "def xc(circuit,???,???):\n",
    "    ???\n",
    "    ???\n",
    "    ???\n",
    "    ???\n",
    "    ???\n",
    "        \n",
    "qr = qlib.QuantumRegister(2, 'q')\n",
    "circ = qlib.QuantumCircuit(qr)\n",
    "\n",
    "circ.x(qr[0])\n",
    "circ.barrier()\n",
    "\n",
    "xc(circ, qr[0], qr[1])\n",
    "```\n",
    "\n",
    "![e](img/lab4/lab4.3e.png)"
   ]
  },
  {
   "cell_type": "markdown",
   "metadata": {},
   "source": [
    "### Άσκηση 4.4\n",
    "\n",
    "Χρησιμοποιείστε τις συναρτήσεις που δημιουργήσατε στην προηγούμενη άσκηση για να υλοποιήσετε τα κυκλώματα: \n",
    "\n",
    "![a](img/lab4/lab4.4a.png)\n",
    "\n",
    "![b](img/lab4/lab4.4b.png)\n",
    "\n",
    "![c](img/lab4/lab4.4c.png)"
   ]
  },
  {
   "cell_type": "markdown",
   "metadata": {},
   "source": [
    "### Άσκηση 4.5\n",
    "\n",
    "Ελέγξτε τα παρακάτω κυκλώματα. Εντοπίστε τμήματα που σας φαίνεται κατάλληλο να υλοποιηθούν με συνάρτηση.\n",
    "\n",
    "Αν θέλετε επιχειρήστε να γράψετε κάποια από αυτές τις συναρτήσεις.\n",
    "\n",
    "![qft5](img/qft5.png)\n",
    "\n",
    "![ccu](img/lab4/ccu.png)"
   ]
  },
  {
   "cell_type": "markdown",
   "metadata": {},
   "source": [
    "# Παραδείγματα"
   ]
  },
  {
   "cell_type": "code",
   "execution_count": 2,
   "metadata": {},
   "outputs": [
    {
     "data": {
      "image/png": "[encoded data removed]",
      "text/plain": [
       "<Figure size 361.2x258.86 with 1 Axes>"
      ]
     },
     "execution_count": 2,
     "metadata": {},
     "output_type": "execute_result"
    }
   ],
   "source": [
    "import qiskit as qlib\n",
    "\n",
    "n = 4\n",
    "qr = qlib.QuantumRegister(n, 'q')\n",
    "circ = qlib.QuantumCircuit(qr)\n",
    "\n",
    "for i in [1,3]:\n",
    "    circ.h(qr[i])\n",
    "    \n",
    "circ.barrier()\n",
    "    \n",
    "for i in [0,2,3]:\n",
    "    circ.x(qr[i])\n",
    "\n",
    "circ.draw(output='mpl')"
   ]
  },
  {
   "cell_type": "code",
   "execution_count": 3,
   "metadata": {},
   "outputs": [
    {
     "data": {
      "image/png": "[encoded data removed]",
      "text/plain": [
       "<Figure size 240.8x258.86 with 1 Axes>"
      ]
     },
     "execution_count": 3,
     "metadata": {},
     "output_type": "execute_result"
    }
   ],
   "source": [
    "import qiskit as qlib\n",
    "\n",
    "n = 4\n",
    "qr = qlib.QuantumRegister(n, 'q')\n",
    "circ = qlib.QuantumCircuit(qr)\n",
    "\n",
    "for i in range(n):\n",
    "    circ.h(qr[i])\n",
    "\n",
    "circ.draw(output='mpl')"
   ]
  },
  {
   "cell_type": "code",
   "execution_count": 4,
   "metadata": {},
   "outputs": [
    {
     "data": {
      "image/png": "[encoded data removed]",
      "text/plain": [
       "<Figure size 301x258.86 with 1 Axes>"
      ]
     },
     "execution_count": 4,
     "metadata": {},
     "output_type": "execute_result"
    }
   ],
   "source": [
    "import qiskit as qlib\n",
    "\n",
    "n = 4\n",
    "qr = qlib.QuantumRegister(n, 'q')\n",
    "circ = qlib.QuantumCircuit(qr)\n",
    "\n",
    "for i in range(n):\n",
    "    if (i % 2 == 0):       # i (mod 2) = 0 --> Ζυγά\n",
    "        circ.h(qr[i])\n",
    "        circ.x(qr[i])\n",
    "    else:\n",
    "        circ.z(qr[i])\n",
    "    \n",
    "\n",
    "circ.draw(output='mpl')"
   ]
  },
  {
   "cell_type": "code",
   "execution_count": 5,
   "metadata": {},
   "outputs": [],
   "source": [
    "import qiskit as qlib\n",
    "\n",
    "def myblock(mycirc, q1, q2):\n",
    "    mycirc.h(q1)\n",
    "    mycirc.cx(q1,q2)"
   ]
  },
  {
   "cell_type": "code",
   "execution_count": 6,
   "metadata": {},
   "outputs": [
    {
     "data": {
      "image/png": "[encoded data removed]",
      "text/plain": [
       "<Figure size 963.2x258.86 with 1 Axes>"
      ]
     },
     "execution_count": 6,
     "metadata": {},
     "output_type": "execute_result"
    }
   ],
   "source": [
    "n = 4\n",
    "qr = qlib.QuantumRegister(n, 'q')\n",
    "circ = qlib.QuantumCircuit(qr)\n",
    "\n",
    "circ.x(qr[0])\n",
    "\n",
    "circ.barrier()\n",
    "myblock(circ,qr[0],qr[1])\n",
    "\n",
    "circ.barrier()\n",
    "myblock(circ,qr[0],qr[2])\n",
    "\n",
    "circ.barrier()\n",
    "myblock(circ,qr[1],qr[2])\n",
    "\n",
    "circ.barrier()\n",
    "myblock(circ,qr[1],qr[3])\n",
    "\n",
    "\n",
    "circ.draw(output='mpl')"
   ]
  },
  {
   "cell_type": "code",
   "execution_count": 7,
   "metadata": {},
   "outputs": [],
   "source": [
    "import qiskit as qlib\n",
    "\n",
    "def myblock(mycirc, q1, q2):\n",
    "    mycirc.h(q1)\n",
    "    mycirc.cx(q1,q2)"
   ]
  },
  {
   "cell_type": "code",
   "execution_count": 8,
   "metadata": {},
   "outputs": [
    {
     "data": {
      "image/png": "[encoded data removed]",
      "text/plain": [
       "<Figure size 782.6x258.86 with 1 Axes>"
      ]
     },
     "execution_count": 8,
     "metadata": {},
     "output_type": "execute_result"
    }
   ],
   "source": [
    "n = 4\n",
    "qr = qlib.QuantumRegister(n, 'q')\n",
    "circ = qlib.QuantumCircuit(qr)\n",
    "\n",
    "circ.x(qr[0])\n",
    "\n",
    "for i in range(n-1):\n",
    "    circ.barrier()\n",
    "    myblock(circ,qr[i], qr[i+1])\n",
    "    \n",
    "circ.draw(output='mpl')"
   ]
  },
  {
   "cell_type": "code",
   "execution_count": 9,
   "metadata": {},
   "outputs": [
    {
     "data": {
      "image/png": "[encoded data removed]",
      "text/plain": [
       "<Figure size 903x319.06 with 1 Axes>"
      ]
     },
     "execution_count": 9,
     "metadata": {},
     "output_type": "execute_result"
    }
   ],
   "source": [
    "import qiskit as qlib\n",
    "\n",
    "def mycirc(n):\n",
    "    import qiskit as qlib\n",
    "    qr = qlib.QuantumRegister(n, 'q')\n",
    "    circuit = qlib.QuantumCircuit(qr)\n",
    "    for i in range(n-1):\n",
    "        circuit.h(qr[i+1])\n",
    "        circuit.cx(qr[i+1], qr[0])\n",
    "        circuit.barrier()\n",
    "    return circuit\n",
    "\n",
    "circuit = mycirc(5)\n",
    "    \n",
    "circuit.draw(output='mpl')"
   ]
  },
  {
   "cell_type": "markdown",
   "metadata": {},
   "source": [
    "## Σημειώσεις"
   ]
  },
  {
   "cell_type": "markdown",
   "metadata": {},
   "source": [
    "## 1.α\n",
    "Για να επαναλάβουμε *διαδοχικά* ένα κομμάτι κώδικα, μπορούμε να χρησιμοποιήσουμε την εντολή `for`.\n",
    "\n",
    "```python\n",
    "for i in [0,1,5]:\n",
    "    print(i)\n",
    "    \n",
    "# Ισοδύναμο με:\n",
    "print(0)\n",
    "print(1)\n",
    "print(5)\n",
    "```\n",
    "\n",
    "## 1.β\n",
    "\n",
    "Η `for` συνδιάζεται συχνά με την εντολή `range(n)`. Η `range(n)` επιστρέφει την λίστα `[0, 1, 2, ..., n-1]`.\n",
    "\n",
    "```python\n",
    "for i in range(3):\n",
    "    print(i)\n",
    "    \n",
    "# Ισοδύναμο με:\n",
    "print(0)\n",
    "print(1)\n",
    "print(2)\n",
    "```\n",
    "\n",
    "Η `range(k,n)` επιστρέφει τη λίστα `[k,k+1,...,n-1]`."
   ]
  },
  {
   "cell_type": "markdown",
   "metadata": {},
   "source": [
    "## 2\n",
    "\n",
    "Εντολή `if`:\n",
    "\n",
    "```python\n",
    "if i==0:\n",
    "    print(\"Μηδέν\")\n",
    "else:\n",
    "    print(\"Όχι μηδέν\")\n",
    "\n",
    "    \n",
    "if i>5:\n",
    "    do_something()\n",
    "    \n",
    "    \n",
    "for i in range(100):\n",
    "    if i%2 == 0:\n",
    "        print(\"Ζυγός αριθμός\")\n",
    "```"
   ]
  },
  {
   "cell_type": "markdown",
   "metadata": {},
   "source": [
    "## 3\n",
    "\n",
    "Ένα κομμάτι κώδικα που θέλουμε να το επαναχρησιμοποιήσουμε το μετατρέπουμε σε συνάρτηση.\n",
    "Στην python ορίζουμε συναρτήσεις με το `def`:\n",
    "\n",
    "```python\n",
    "def somecode():\n",
    "    print(\"Hi\")\n",
    "\n",
    "somecode()\n",
    "```\n",
    "\n",
    "```python\n",
    "def somecode(parameter):\n",
    "    print(parameter)\n",
    "\n",
    "somecode('p')\n",
    "```\n",
    "\n",
    "\n",
    "```python\n",
    "def mycode(x, y):\n",
    "    a = x*y + 5\n",
    "    print(a)\n",
    "    \n",
    "mycode(3,3)\n",
    "mycode(5,2)\n",
    "```\n"
   ]
  },
  {
   "cell_type": "markdown",
   "metadata": {},
   "source": [
    "## 4\n",
    "\n",
    "**Προσοχή** στην στοίχιση των εντολών. \n",
    "\n",
    "Οι εντολές `def`, `for` και `if` περιμένουν μετά μια ομάδα εντολών. Η ομάδα αυτή ορίζεται από την στοίχιση που ακολουθεί.\n",
    "\n",
    "```python\n",
    "for i in range(5):\n",
    "    j = i + 1\n",
    "    print(j)       # Ανήκει στο for\n",
    "\n",
    "# Τυπώνει: 1,2,3,4,5\n",
    "    \n",
    "for i in range(5):\n",
    "    j = i + 1\n",
    "print(j)           #  Δεν ανήκει στο for\n",
    "\n",
    "# Τυπώνει: 5\n",
    "```\n"
   ]
  },
  {
   "cell_type": "markdown",
   "metadata": {},
   "source": [
    "## 5\n",
    "\n",
    "Η αντίστοιχη control-πύλη της `u1` είναι η `cu1`:\n",
    "\n",
    "```python\n",
    "circuit.cu1(λ, qbit[i], qbit[j])\n",
    "```"
   ]
  }
 ],
 "metadata": {
  "kernelspec": {
   "display_name": "Python 3",
   "language": "python",
   "name": "python3"
  },
  "language_info": {
   "codemirror_mode": {
    "name": "ipython",
    "version": 3
   },
   "file_extension": ".py",
   "mimetype": "text/x-python",
   "name": "python",
   "nbconvert_exporter": "python",
   "pygments_lexer": "ipython3",
   "version": "3.6.7"
  }
 },
 "nbformat": 4,
 "nbformat_minor": 2
}
